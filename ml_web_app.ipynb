{
  "nbformat": 4,
  "nbformat_minor": 0,
  "metadata": {
    "colab": {
      "name": "ml-web-app.ipynb",
      "provenance": [],
      "include_colab_link": true
    },
    "kernelspec": {
      "name": "python3",
      "display_name": "Python 3"
    }
  },
  "cells": [
    {
      "cell_type": "markdown",
      "metadata": {
        "id": "view-in-github",
        "colab_type": "text"
      },
      "source": [
        "<a href=\"https://colab.research.google.com/github/afshaanmaz/ml-web-app/blob/master/ml_web_app.ipynb\" target=\"_parent\"><img src=\"https://colab.research.google.com/assets/colab-badge.svg\" alt=\"Open In Colab\"/></a>"
      ]
    },
    {
      "cell_type": "markdown",
      "metadata": {
        "id": "DYubY-YEnIA3",
        "colab_type": "text"
      },
      "source": [
        "# Create an ML Web App\n",
        "adapted from: https://hackernoon.com/deploy-a-machine-learning-model-using-flask-da580f84e60c\n",
        "\n",
        "\n",
        "Good setup for windows\n",
        "https://www.freecodecamp.org/news/how-to-build-a-web-app-using-pythons-flask-and-google-app-engine-52b1bb82b221/\n"
      ]
    },
    {
      "cell_type": "code",
      "metadata": {
        "id": "KNMaLq8Tm00r",
        "colab_type": "code",
        "colab": {}
      },
      "source": [
        ""
      ],
      "execution_count": 0,
      "outputs": []
    },
    {
      "cell_type": "markdown",
      "metadata": {
        "id": "wZ9gk209nIws",
        "colab_type": "text"
      },
      "source": [
        "Load the dataset"
      ]
    },
    {
      "cell_type": "code",
      "metadata": {
        "id": "CZ5o0PP9nA0d",
        "colab_type": "code",
        "colab": {}
      },
      "source": [
        "salary_data = (1.1,39343.00),(1.3,46205.00),(1.5,37731.00),(2.0,43525.00),(2.2,39891.00), \\\n",
        "(2.9,56642.00), \\\n",
        "(3.0,60150.00), \\\n",
        "(3.2,54445.00), \\\n",
        "(3.2,64445.00), \\\n",
        "(3.7,57189.00), \\\n",
        "(3.9,63218.00), \\\n",
        "(4.0,55794.00), \\\n",
        "(4.0,56957.00), \\\n",
        "(4.1,57081.00), \\\n",
        "(4.5,61111.00), \\\n",
        "(4.9,67938.00), \\\n",
        "(5.1,66029.00), \\\n",
        "(5.3,83088.00), \\\n",
        "(5.9,81363.00), \\\n",
        "(6.0,93940.00), \\\n",
        "(6.8,91738.00), \\\n",
        "(7.1,98273.00), \\\n",
        "(7.9,101302.00), \\\n",
        "(8.2,113812.00), \\\n",
        "(8.7,109431.00), \\\n",
        "(9.0,105582.00), \\\n",
        "(9.5,116969.00), \\\n",
        "(9.6,112635.00), \\\n",
        "(10.3,122391.00), \\\n",
        "(10.5,121872.00)\n"
      ],
      "execution_count": 0,
      "outputs": []
    },
    {
      "cell_type": "code",
      "metadata": {
        "id": "sqrQR-AHnA3K",
        "colab_type": "code",
        "colab": {
          "base_uri": "https://localhost:8080/",
          "height": 34
        },
        "outputId": "f7b814b5-9c58-4e43-b37d-2af99aac482c"
      },
      "source": [
        "len(salary_data)"
      ],
      "execution_count": 10,
      "outputs": [
        {
          "output_type": "execute_result",
          "data": {
            "text/plain": [
              "30"
            ]
          },
          "metadata": {
            "tags": []
          },
          "execution_count": 10
        }
      ]
    },
    {
      "cell_type": "code",
      "metadata": {
        "id": "wV1wGHAXnA5x",
        "colab_type": "code",
        "colab": {}
      },
      "source": [
        "experience, salary = list(zip(*salary_data))"
      ],
      "execution_count": 0,
      "outputs": []
    },
    {
      "cell_type": "code",
      "metadata": {
        "id": "8TB0lAIhKjtY",
        "colab_type": "code",
        "colab": {}
      },
      "source": [
        "X = np.array(experience).reshape(-1, 1)\n",
        "y = salary"
      ],
      "execution_count": 0,
      "outputs": []
    },
    {
      "cell_type": "markdown",
      "metadata": {
        "id": "3iqGqDAdOXxA",
        "colab_type": "text"
      },
      "source": [
        "# Train the model"
      ]
    },
    {
      "cell_type": "code",
      "metadata": {
        "id": "HonBRChYKyLv",
        "colab_type": "code",
        "colab": {}
      },
      "source": [
        "# Simple Linear Regression\n",
        "\n",
        "'''\n",
        "This model predicts the salary of the employee based on experience using simple linear regression model.\n",
        "'''\n",
        "\n",
        "# Importing the libraries\n",
        "import numpy as np\n",
        "import matplotlib.pyplot as plt\n",
        "import pandas as pd\n",
        "import pickle\n",
        "import requests\n",
        "import json"
      ],
      "execution_count": 0,
      "outputs": []
    },
    {
      "cell_type": "code",
      "metadata": {
        "id": "xg5zsjfzMByF",
        "colab_type": "code",
        "colab": {
          "base_uri": "https://localhost:8080/",
          "height": 34
        },
        "outputId": "98cc688e-e163-4d15-a46d-9ae362590866"
      },
      "source": [
        "# Splitting the dataset into the Training set and Test set\n",
        "from sklearn.model_selection import train_test_split\n",
        "X_train, X_test, y_train, y_test = train_test_split(X, y, test_size = 1/3, random_state = 0)\n",
        "\n",
        "# Fitting Simple Linear Regression to the Training set\n",
        "from sklearn.linear_model import LinearRegression\n",
        "regressor = LinearRegression()\n",
        "regressor.fit(X_train, y_train)\n",
        "\n",
        "# Predicting the Test set results\n",
        "y_pred = regressor.predict(X_test)\n",
        "\n",
        "# Saving model using pickle\n",
        "pickle.dump(regressor, open('model.pkl','wb'))\n",
        "\n",
        "# Loading model to compare the results\n",
        "model = pickle.load( open('model.pkl','rb'))\n",
        "print(model.predict([[1.8]]))"
      ],
      "execution_count": 25,
      "outputs": [
        {
          "output_type": "stream",
          "text": [
            "[43638.88864165]\n"
          ],
          "name": "stdout"
        }
      ]
    },
    {
      "cell_type": "markdown",
      "metadata": {
        "id": "516IjNOqOdSa",
        "colab_type": "text"
      },
      "source": [
        "# Server\n",
        "First Flask App\n",
        "http://flask.palletsprojects.com/en/1.1.x/quickstart/#quickstart"
      ]
    },
    {
      "cell_type": "code",
      "metadata": {
        "id": "FCOaK21fMboy",
        "colab_type": "code",
        "colab": {}
      },
      "source": [
        "# Create API of ML model using flask\n",
        "\n",
        "'''\n",
        "This code takes the JSON data while POST request an performs the prediction using loaded model and returns\n",
        "the results in JSON format.\n",
        "'''\n",
        "\n",
        "# Import libraries\n",
        "import numpy as np\n",
        "from flask import Flask, request, jsonify\n",
        "import pickle\n"
      ],
      "execution_count": 0,
      "outputs": []
    },
    {
      "cell_type": "code",
      "metadata": {
        "id": "AWDkMdlQMlv9",
        "colab_type": "code",
        "colab": {}
      },
      "source": [
        "app = Flask(__name__) #name of the application's module or package\n"
      ],
      "execution_count": 0,
      "outputs": []
    },
    {
      "cell_type": "markdown",
      "metadata": {
        "id": "y4FFLlGXTVVl",
        "colab_type": "text"
      },
      "source": [
        "Here we use a single module. \"name\" will be different whether it is started as an application or imported as a package. This is needed so that Flask knows where to look for templates, static files, and so on. \n",
        "\n",
        "\n",
        "\n",
        "We use the route() decorator to tell Flask what URL should trigger our function."
      ]
    },
    {
      "cell_type": "code",
      "metadata": {
        "id": "9xVyIg8UM1o7",
        "colab_type": "code",
        "colab": {}
      },
      "source": [
        "# Load the model\n",
        "model = pickle.load(open('model.pkl','rb'))\n",
        "\n",
        "@app.route('/api',methods=['POST'])\n",
        "def predict():\n",
        "    # Get the data from the POST request.\n",
        "    data = request.get_json(force=True)\n",
        "\n",
        "    # Make prediction using model loaded from disk as per the data.\n",
        "    prediction = model.predict([[np.array(data['exp'])]])\n",
        "\n",
        "    # Take the first value of prediction\n",
        "    output = prediction[0]\n",
        "\n",
        "    return jsonify(output)"
      ],
      "execution_count": 0,
      "outputs": []
    },
    {
      "cell_type": "code",
      "metadata": {
        "id": "LKWIKo6_M7QN",
        "colab_type": "code",
        "colab": {
          "base_uri": "https://localhost:8080/",
          "height": 158
        },
        "outputId": "cb32d87b-f4a6-4c42-ff5b-9663556e283d"
      },
      "source": [
        "if __name__ == '__main__':\n",
        "  try:\n",
        "    app.run(port=5000, debug=True)\n",
        "  except:\n",
        "    print(\"Server is exited unexpectedly. Please contact server admin.\")\n"
      ],
      "execution_count": 37,
      "outputs": [
        {
          "output_type": "stream",
          "text": [
            " * Serving Flask app \"__main__\" (lazy loading)\n",
            " * Environment: production\n",
            "   WARNING: This is a development server. Do not use it in a production deployment.\n",
            "   Use a production WSGI server instead.\n",
            " * Debug mode: on\n"
          ],
          "name": "stdout"
        },
        {
          "output_type": "stream",
          "text": [
            " * Running on http://127.0.0.1:5000/ (Press CTRL+C to quit)\n",
            " * Restarting with stat\n"
          ],
          "name": "stderr"
        },
        {
          "output_type": "stream",
          "text": [
            "Server is exited unexpectedly. Please contact server admin.\n"
          ],
          "name": "stdout"
        }
      ]
    },
    {
      "cell_type": "code",
      "metadata": {
        "id": "rWmQlVjVM9pO",
        "colab_type": "code",
        "colab": {}
      },
      "source": [
        ""
      ],
      "execution_count": 0,
      "outputs": []
    }
  ]
}